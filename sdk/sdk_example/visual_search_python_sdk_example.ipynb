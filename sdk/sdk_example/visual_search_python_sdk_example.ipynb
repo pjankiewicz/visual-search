{
 "cells": [
  {
   "cell_type": "code",
   "execution_count": null,
   "metadata": {},
   "outputs": [],
   "source": [
    "import sys\n",
    "sys.path.append(\"../python/recoai_visual_search/\")\n",
    "from visual_search import RecoAIVisualSearch\n",
    "from models import *\n",
    "import json\n",
    "from glob import glob\n",
    "import ipyplot\n",
    "from matplotlib import pyplot as plt\n",
    "from tqdm import tqdm"
   ]
  },
  {
   "cell_type": "markdown",
   "metadata": {},
   "source": [
    "Creating a collection to keep the images \n",
    "-------------\n",
    "In this case we are using MOBILE_NET_V2 as the feature extractor"
   ]
  },
  {
   "cell_type": "code",
   "execution_count": null,
   "metadata": {},
   "outputs": [],
   "source": [
    "api = RecoAIVisualSearch(bearer_token=\"secrettoken\", address=\"http://localhost:8890\")\n",
    "upsert_collection = UpsertCollection(\n",
    "    config=GenericModelConfig(\n",
    "        model_architecture=ModelArchitecture.MOBILE_NET_V2\n",
    "    ), \n",
    "    name=\"images\"\n",
    ")\n",
    "response = api.upsert_collection(upsert_collection)"
   ]
  },
  {
   "cell_type": "markdown",
   "metadata": {},
   "source": [
    "Indexing images\n",
    "-----------"
   ]
  },
  {
   "cell_type": "code",
   "execution_count": null,
   "metadata": {},
   "outputs": [],
   "source": [
    "for img_path in tqdm(sorted(glob(\"../../images/imagenet-sample-images/*.JPEG\"))):\n",
    "    image_id = img_path.split(\"/\")[-1].split(\".\")[0]\n",
    "    with open(img_path, \"rb\") as inp:\n",
    "        image_bytes = list(inp.read())\n",
    "    image_source = ImageSource(image_bytes=ImageBytes(image_bytes))\n",
    "    add_image = AddImage(collection_name=\"images\", id=image_id, source=image_source)\n",
    "    resp = api.add_image(add_image)"
   ]
  },
  {
   "cell_type": "markdown",
   "metadata": {},
   "source": [
    "Searching for a cat \n",
    "-----------"
   ]
  },
  {
   "cell_type": "code",
   "execution_count": null,
   "metadata": {},
   "outputs": [],
   "source": [
    "with open(\"../../images/cat.jpeg\", \"rb\") as inp:\n",
    "    image_bytes = list(inp.read())\n",
    "image_source = ImageSource(image_bytes=ImageBytes(image_bytes))\n",
    "search_image = SearchImage(collection_name=\"images\", n_results=8, source=image_source)\n",
    "search_results = json.loads(api.search_image(search_image).content)\n",
    "search_results"
   ]
  },
  {
   "cell_type": "code",
   "execution_count": null,
   "metadata": {},
   "outputs": [],
   "source": [
    "images_paths = []\n",
    "for result in search_results[\"results\"]:\n",
    "    fn = \"/home/pawel/logicai/visual-search/images/imagenet-sample-images/{}.JPEG\".format(result[\"id\"])\n",
    "    img = plt.imread(fn)\n",
    "    images_paths.append(img)    \n",
    "ipyplot.plot_images(images_paths)"
   ]
  },
  {
   "cell_type": "code",
   "execution_count": null,
   "metadata": {},
   "outputs": [],
   "source": []
  }
 ],
 "metadata": {
  "jupytext": {
   "text_representation": {
    "extension": ".py",
    "format_name": "light",
    "format_version": "1.5",
    "jupytext_version": "1.5.0"
   }
  },
  "kernelspec": {
   "display_name": "Python 3",
   "language": "python",
   "name": "python3"
  },
  "language_info": {
   "codemirror_mode": {
    "name": "ipython",
    "version": 3
   },
   "file_extension": ".py",
   "mimetype": "text/x-python",
   "name": "python",
   "nbconvert_exporter": "python",
   "pygments_lexer": "ipython3",
   "version": "3.7.4"
  }
 },
 "nbformat": 4,
 "nbformat_minor": 4
}
